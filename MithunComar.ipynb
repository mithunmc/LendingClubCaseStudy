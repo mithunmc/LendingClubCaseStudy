{
  "nbformat": 4,
  "nbformat_minor": 0,
  "metadata": {
    "colab": {
      "provenance": []
    },
    "kernelspec": {
      "name": "python3",
      "display_name": "Python 3"
    },
    "language_info": {
      "name": "python"
    }
  },
  "cells": [
    {
      "cell_type": "code",
      "execution_count": null,
      "metadata": {
        "id": "TcaoqM1SPORD"
      },
      "outputs": [],
      "source": [
        "#importing libraries\n",
        "import pandas as pd\n",
        "import numpy as np\n",
        "import matplotlib.pyplot as plt\n"
      ]
    },
    {
      "cell_type": "code",
      "source": [
        "#importing dataset\n",
        "df = pd.read_csv(\"loan.csv\")\n",
        "df.head()"
      ],
      "metadata": {
        "colab": {
          "base_uri": "https://localhost:8080/",
          "height": 386
        },
        "id": "twCeTaX7QaB3",
        "outputId": "03dfe6d2-910f-432e-d382-29504335744b"
      },
      "execution_count": null,
      "outputs": [
        {
          "output_type": "execute_result",
          "data": {
            "text/plain": [
              "        id  member_id  loan_amnt  funded_amnt  funded_amnt_inv        term  \\\n",
              "0  1077501    1296599       5000         5000           4975.0   36 months   \n",
              "1  1077430    1314167       2500         2500           2500.0   60 months   \n",
              "2  1077175    1313524       2400         2400           2400.0   36 months   \n",
              "3  1076863    1277178      10000        10000          10000.0   36 months   \n",
              "4  1075358    1311748       3000         3000           3000.0   60 months   \n",
              "\n",
              "  int_rate  installment grade sub_grade  ... num_tl_90g_dpd_24m  \\\n",
              "0   10.65%       162.87     B        B2  ...                NaN   \n",
              "1   15.27%        59.83     C        C4  ...                NaN   \n",
              "2   15.96%        84.33     C        C5  ...                NaN   \n",
              "3   13.49%       339.31     C        C1  ...                NaN   \n",
              "4   12.69%        67.79     B        B5  ...                NaN   \n",
              "\n",
              "  num_tl_op_past_12m pct_tl_nvr_dlq  percent_bc_gt_75 pub_rec_bankruptcies  \\\n",
              "0                NaN            NaN               NaN                  0.0   \n",
              "1                NaN            NaN               NaN                  0.0   \n",
              "2                NaN            NaN               NaN                  0.0   \n",
              "3                NaN            NaN               NaN                  0.0   \n",
              "4                NaN            NaN               NaN                  0.0   \n",
              "\n",
              "  tax_liens tot_hi_cred_lim total_bal_ex_mort total_bc_limit  \\\n",
              "0       0.0             NaN               NaN            NaN   \n",
              "1       0.0             NaN               NaN            NaN   \n",
              "2       0.0             NaN               NaN            NaN   \n",
              "3       0.0             NaN               NaN            NaN   \n",
              "4       0.0             NaN               NaN            NaN   \n",
              "\n",
              "  total_il_high_credit_limit  \n",
              "0                        NaN  \n",
              "1                        NaN  \n",
              "2                        NaN  \n",
              "3                        NaN  \n",
              "4                        NaN  \n",
              "\n",
              "[5 rows x 111 columns]"
            ],
            "text/html": [
              "\n",
              "  <div id=\"df-e2fee1ca-e9f7-4aae-938b-ab9063166dbc\">\n",
              "    <div class=\"colab-df-container\">\n",
              "      <div>\n",
              "<style scoped>\n",
              "    .dataframe tbody tr th:only-of-type {\n",
              "        vertical-align: middle;\n",
              "    }\n",
              "\n",
              "    .dataframe tbody tr th {\n",
              "        vertical-align: top;\n",
              "    }\n",
              "\n",
              "    .dataframe thead th {\n",
              "        text-align: right;\n",
              "    }\n",
              "</style>\n",
              "<table border=\"1\" class=\"dataframe\">\n",
              "  <thead>\n",
              "    <tr style=\"text-align: right;\">\n",
              "      <th></th>\n",
              "      <th>id</th>\n",
              "      <th>member_id</th>\n",
              "      <th>loan_amnt</th>\n",
              "      <th>funded_amnt</th>\n",
              "      <th>funded_amnt_inv</th>\n",
              "      <th>term</th>\n",
              "      <th>int_rate</th>\n",
              "      <th>installment</th>\n",
              "      <th>grade</th>\n",
              "      <th>sub_grade</th>\n",
              "      <th>...</th>\n",
              "      <th>num_tl_90g_dpd_24m</th>\n",
              "      <th>num_tl_op_past_12m</th>\n",
              "      <th>pct_tl_nvr_dlq</th>\n",
              "      <th>percent_bc_gt_75</th>\n",
              "      <th>pub_rec_bankruptcies</th>\n",
              "      <th>tax_liens</th>\n",
              "      <th>tot_hi_cred_lim</th>\n",
              "      <th>total_bal_ex_mort</th>\n",
              "      <th>total_bc_limit</th>\n",
              "      <th>total_il_high_credit_limit</th>\n",
              "    </tr>\n",
              "  </thead>\n",
              "  <tbody>\n",
              "    <tr>\n",
              "      <th>0</th>\n",
              "      <td>1077501</td>\n",
              "      <td>1296599</td>\n",
              "      <td>5000</td>\n",
              "      <td>5000</td>\n",
              "      <td>4975.0</td>\n",
              "      <td>36 months</td>\n",
              "      <td>10.65%</td>\n",
              "      <td>162.87</td>\n",
              "      <td>B</td>\n",
              "      <td>B2</td>\n",
              "      <td>...</td>\n",
              "      <td>NaN</td>\n",
              "      <td>NaN</td>\n",
              "      <td>NaN</td>\n",
              "      <td>NaN</td>\n",
              "      <td>0.0</td>\n",
              "      <td>0.0</td>\n",
              "      <td>NaN</td>\n",
              "      <td>NaN</td>\n",
              "      <td>NaN</td>\n",
              "      <td>NaN</td>\n",
              "    </tr>\n",
              "    <tr>\n",
              "      <th>1</th>\n",
              "      <td>1077430</td>\n",
              "      <td>1314167</td>\n",
              "      <td>2500</td>\n",
              "      <td>2500</td>\n",
              "      <td>2500.0</td>\n",
              "      <td>60 months</td>\n",
              "      <td>15.27%</td>\n",
              "      <td>59.83</td>\n",
              "      <td>C</td>\n",
              "      <td>C4</td>\n",
              "      <td>...</td>\n",
              "      <td>NaN</td>\n",
              "      <td>NaN</td>\n",
              "      <td>NaN</td>\n",
              "      <td>NaN</td>\n",
              "      <td>0.0</td>\n",
              "      <td>0.0</td>\n",
              "      <td>NaN</td>\n",
              "      <td>NaN</td>\n",
              "      <td>NaN</td>\n",
              "      <td>NaN</td>\n",
              "    </tr>\n",
              "    <tr>\n",
              "      <th>2</th>\n",
              "      <td>1077175</td>\n",
              "      <td>1313524</td>\n",
              "      <td>2400</td>\n",
              "      <td>2400</td>\n",
              "      <td>2400.0</td>\n",
              "      <td>36 months</td>\n",
              "      <td>15.96%</td>\n",
              "      <td>84.33</td>\n",
              "      <td>C</td>\n",
              "      <td>C5</td>\n",
              "      <td>...</td>\n",
              "      <td>NaN</td>\n",
              "      <td>NaN</td>\n",
              "      <td>NaN</td>\n",
              "      <td>NaN</td>\n",
              "      <td>0.0</td>\n",
              "      <td>0.0</td>\n",
              "      <td>NaN</td>\n",
              "      <td>NaN</td>\n",
              "      <td>NaN</td>\n",
              "      <td>NaN</td>\n",
              "    </tr>\n",
              "    <tr>\n",
              "      <th>3</th>\n",
              "      <td>1076863</td>\n",
              "      <td>1277178</td>\n",
              "      <td>10000</td>\n",
              "      <td>10000</td>\n",
              "      <td>10000.0</td>\n",
              "      <td>36 months</td>\n",
              "      <td>13.49%</td>\n",
              "      <td>339.31</td>\n",
              "      <td>C</td>\n",
              "      <td>C1</td>\n",
              "      <td>...</td>\n",
              "      <td>NaN</td>\n",
              "      <td>NaN</td>\n",
              "      <td>NaN</td>\n",
              "      <td>NaN</td>\n",
              "      <td>0.0</td>\n",
              "      <td>0.0</td>\n",
              "      <td>NaN</td>\n",
              "      <td>NaN</td>\n",
              "      <td>NaN</td>\n",
              "      <td>NaN</td>\n",
              "    </tr>\n",
              "    <tr>\n",
              "      <th>4</th>\n",
              "      <td>1075358</td>\n",
              "      <td>1311748</td>\n",
              "      <td>3000</td>\n",
              "      <td>3000</td>\n",
              "      <td>3000.0</td>\n",
              "      <td>60 months</td>\n",
              "      <td>12.69%</td>\n",
              "      <td>67.79</td>\n",
              "      <td>B</td>\n",
              "      <td>B5</td>\n",
              "      <td>...</td>\n",
              "      <td>NaN</td>\n",
              "      <td>NaN</td>\n",
              "      <td>NaN</td>\n",
              "      <td>NaN</td>\n",
              "      <td>0.0</td>\n",
              "      <td>0.0</td>\n",
              "      <td>NaN</td>\n",
              "      <td>NaN</td>\n",
              "      <td>NaN</td>\n",
              "      <td>NaN</td>\n",
              "    </tr>\n",
              "  </tbody>\n",
              "</table>\n",
              "<p>5 rows × 111 columns</p>\n",
              "</div>\n",
              "      <button class=\"colab-df-convert\" onclick=\"convertToInteractive('df-e2fee1ca-e9f7-4aae-938b-ab9063166dbc')\"\n",
              "              title=\"Convert this dataframe to an interactive table.\"\n",
              "              style=\"display:none;\">\n",
              "        \n",
              "  <svg xmlns=\"http://www.w3.org/2000/svg\" height=\"24px\"viewBox=\"0 0 24 24\"\n",
              "       width=\"24px\">\n",
              "    <path d=\"M0 0h24v24H0V0z\" fill=\"none\"/>\n",
              "    <path d=\"M18.56 5.44l.94 2.06.94-2.06 2.06-.94-2.06-.94-.94-2.06-.94 2.06-2.06.94zm-11 1L8.5 8.5l.94-2.06 2.06-.94-2.06-.94L8.5 2.5l-.94 2.06-2.06.94zm10 10l.94 2.06.94-2.06 2.06-.94-2.06-.94-.94-2.06-.94 2.06-2.06.94z\"/><path d=\"M17.41 7.96l-1.37-1.37c-.4-.4-.92-.59-1.43-.59-.52 0-1.04.2-1.43.59L10.3 9.45l-7.72 7.72c-.78.78-.78 2.05 0 2.83L4 21.41c.39.39.9.59 1.41.59.51 0 1.02-.2 1.41-.59l7.78-7.78 2.81-2.81c.8-.78.8-2.07 0-2.86zM5.41 20L4 18.59l7.72-7.72 1.47 1.35L5.41 20z\"/>\n",
              "  </svg>\n",
              "      </button>\n",
              "      \n",
              "  <style>\n",
              "    .colab-df-container {\n",
              "      display:flex;\n",
              "      flex-wrap:wrap;\n",
              "      gap: 12px;\n",
              "    }\n",
              "\n",
              "    .colab-df-convert {\n",
              "      background-color: #E8F0FE;\n",
              "      border: none;\n",
              "      border-radius: 50%;\n",
              "      cursor: pointer;\n",
              "      display: none;\n",
              "      fill: #1967D2;\n",
              "      height: 32px;\n",
              "      padding: 0 0 0 0;\n",
              "      width: 32px;\n",
              "    }\n",
              "\n",
              "    .colab-df-convert:hover {\n",
              "      background-color: #E2EBFA;\n",
              "      box-shadow: 0px 1px 2px rgba(60, 64, 67, 0.3), 0px 1px 3px 1px rgba(60, 64, 67, 0.15);\n",
              "      fill: #174EA6;\n",
              "    }\n",
              "\n",
              "    [theme=dark] .colab-df-convert {\n",
              "      background-color: #3B4455;\n",
              "      fill: #D2E3FC;\n",
              "    }\n",
              "\n",
              "    [theme=dark] .colab-df-convert:hover {\n",
              "      background-color: #434B5C;\n",
              "      box-shadow: 0px 1px 3px 1px rgba(0, 0, 0, 0.15);\n",
              "      filter: drop-shadow(0px 1px 2px rgba(0, 0, 0, 0.3));\n",
              "      fill: #FFFFFF;\n",
              "    }\n",
              "  </style>\n",
              "\n",
              "      <script>\n",
              "        const buttonEl =\n",
              "          document.querySelector('#df-e2fee1ca-e9f7-4aae-938b-ab9063166dbc button.colab-df-convert');\n",
              "        buttonEl.style.display =\n",
              "          google.colab.kernel.accessAllowed ? 'block' : 'none';\n",
              "\n",
              "        async function convertToInteractive(key) {\n",
              "          const element = document.querySelector('#df-e2fee1ca-e9f7-4aae-938b-ab9063166dbc');\n",
              "          const dataTable =\n",
              "            await google.colab.kernel.invokeFunction('convertToInteractive',\n",
              "                                                     [key], {});\n",
              "          if (!dataTable) return;\n",
              "\n",
              "          const docLinkHtml = 'Like what you see? Visit the ' +\n",
              "            '<a target=\"_blank\" href=https://colab.research.google.com/notebooks/data_table.ipynb>data table notebook</a>'\n",
              "            + ' to learn more about interactive tables.';\n",
              "          element.innerHTML = '';\n",
              "          dataTable['output_type'] = 'display_data';\n",
              "          await google.colab.output.renderOutput(dataTable, element);\n",
              "          const docLink = document.createElement('div');\n",
              "          docLink.innerHTML = docLinkHtml;\n",
              "          element.appendChild(docLink);\n",
              "        }\n",
              "      </script>\n",
              "    </div>\n",
              "  </div>\n",
              "  "
            ]
          },
          "metadata": {},
          "execution_count": 41
        }
      ]
    },
    {
      "cell_type": "markdown",
      "source": [
        "## Data Cleaning"
      ],
      "metadata": {
        "id": "bWEE-2Hi-iqd"
      }
    },
    {
      "cell_type": "code",
      "source": [
        "#dropping columns not required\n",
        "df_loan = df[[\"id\",\"member_id\",\"loan_amnt\",\"funded_amnt\",\"funded_amnt_inv\",\"term\",\"int_rate\",\"installment\",\"grade\",\"sub_grade\",\"emp_title\",\"emp_length\",\"home_ownership\",\"annual_inc\",\"verification_status\",\"issue_d\",\"loan_status\",\"pymnt_plan\",\"url\",\"desc\",\"purpose\",\"title\",\"zip_code\",\"addr_state\",\"dti\",\"delinq_2yrs\",\"earliest_cr_line\",\"inq_last_6mths\",\"mths_since_last_delinq\",\"mths_since_last_record\",\"open_acc\",\"pub_rec\",\"revol_bal\",\"revol_util\",\"total_acc\",\"initial_list_status\",\"out_prncp\",\"out_prncp_inv\",\"total_pymnt\",\"total_pymnt_inv\",\"total_rec_prncp\",\"total_rec_int\",\"total_rec_late_fee\",\"recoveries\",\"collection_recovery_fee\",\"last_pymnt_d\",\"last_pymnt_amnt\",\"next_pymnt_d\",\"last_credit_pull_d\",\"collections_12_mths_ex_med\"]]\n",
        "df_loan.head()"
      ],
      "metadata": {
        "colab": {
          "base_uri": "https://localhost:8080/",
          "height": 386
        },
        "id": "iaw1lHsFQtOq",
        "outputId": "422f6162-547b-46f5-b3d0-00824e222f46"
      },
      "execution_count": null,
      "outputs": [
        {
          "output_type": "execute_result",
          "data": {
            "text/plain": [
              "        id  member_id  loan_amnt  funded_amnt  funded_amnt_inv        term  \\\n",
              "0  1077501    1296599       5000         5000           4975.0   36 months   \n",
              "1  1077430    1314167       2500         2500           2500.0   60 months   \n",
              "2  1077175    1313524       2400         2400           2400.0   36 months   \n",
              "3  1076863    1277178      10000        10000          10000.0   36 months   \n",
              "4  1075358    1311748       3000         3000           3000.0   60 months   \n",
              "\n",
              "  int_rate  installment grade sub_grade  ... total_rec_prncp total_rec_int  \\\n",
              "0   10.65%       162.87     B        B2  ...         5000.00        863.16   \n",
              "1   15.27%        59.83     C        C4  ...          456.46        435.17   \n",
              "2   15.96%        84.33     C        C5  ...         2400.00        605.67   \n",
              "3   13.49%       339.31     C        C1  ...        10000.00       2214.92   \n",
              "4   12.69%        67.79     B        B5  ...         2475.94       1037.39   \n",
              "\n",
              "  total_rec_late_fee  recoveries collection_recovery_fee last_pymnt_d  \\\n",
              "0               0.00        0.00                    0.00       Jan-15   \n",
              "1               0.00      117.08                    1.11       Apr-13   \n",
              "2               0.00        0.00                    0.00       Jun-14   \n",
              "3              16.97        0.00                    0.00       Jan-15   \n",
              "4               0.00        0.00                    0.00       May-16   \n",
              "\n",
              "  last_pymnt_amnt next_pymnt_d last_credit_pull_d collections_12_mths_ex_med  \n",
              "0          171.62          NaN             May-16                          0  \n",
              "1          119.66          NaN             Sep-13                          0  \n",
              "2          649.91          NaN             May-16                          0  \n",
              "3          357.48          NaN             Apr-16                          0  \n",
              "4           67.79       Jun-16             May-16                          0  \n",
              "\n",
              "[5 rows x 50 columns]"
            ],
            "text/html": [
              "\n",
              "  <div id=\"df-459ed6e1-9ee5-4e45-8fd9-51a0ebe409ed\">\n",
              "    <div class=\"colab-df-container\">\n",
              "      <div>\n",
              "<style scoped>\n",
              "    .dataframe tbody tr th:only-of-type {\n",
              "        vertical-align: middle;\n",
              "    }\n",
              "\n",
              "    .dataframe tbody tr th {\n",
              "        vertical-align: top;\n",
              "    }\n",
              "\n",
              "    .dataframe thead th {\n",
              "        text-align: right;\n",
              "    }\n",
              "</style>\n",
              "<table border=\"1\" class=\"dataframe\">\n",
              "  <thead>\n",
              "    <tr style=\"text-align: right;\">\n",
              "      <th></th>\n",
              "      <th>id</th>\n",
              "      <th>member_id</th>\n",
              "      <th>loan_amnt</th>\n",
              "      <th>funded_amnt</th>\n",
              "      <th>funded_amnt_inv</th>\n",
              "      <th>term</th>\n",
              "      <th>int_rate</th>\n",
              "      <th>installment</th>\n",
              "      <th>grade</th>\n",
              "      <th>sub_grade</th>\n",
              "      <th>...</th>\n",
              "      <th>total_rec_prncp</th>\n",
              "      <th>total_rec_int</th>\n",
              "      <th>total_rec_late_fee</th>\n",
              "      <th>recoveries</th>\n",
              "      <th>collection_recovery_fee</th>\n",
              "      <th>last_pymnt_d</th>\n",
              "      <th>last_pymnt_amnt</th>\n",
              "      <th>next_pymnt_d</th>\n",
              "      <th>last_credit_pull_d</th>\n",
              "      <th>collections_12_mths_ex_med</th>\n",
              "    </tr>\n",
              "  </thead>\n",
              "  <tbody>\n",
              "    <tr>\n",
              "      <th>0</th>\n",
              "      <td>1077501</td>\n",
              "      <td>1296599</td>\n",
              "      <td>5000</td>\n",
              "      <td>5000</td>\n",
              "      <td>4975.0</td>\n",
              "      <td>36 months</td>\n",
              "      <td>10.65%</td>\n",
              "      <td>162.87</td>\n",
              "      <td>B</td>\n",
              "      <td>B2</td>\n",
              "      <td>...</td>\n",
              "      <td>5000.00</td>\n",
              "      <td>863.16</td>\n",
              "      <td>0.00</td>\n",
              "      <td>0.00</td>\n",
              "      <td>0.00</td>\n",
              "      <td>Jan-15</td>\n",
              "      <td>171.62</td>\n",
              "      <td>NaN</td>\n",
              "      <td>May-16</td>\n",
              "      <td>0</td>\n",
              "    </tr>\n",
              "    <tr>\n",
              "      <th>1</th>\n",
              "      <td>1077430</td>\n",
              "      <td>1314167</td>\n",
              "      <td>2500</td>\n",
              "      <td>2500</td>\n",
              "      <td>2500.0</td>\n",
              "      <td>60 months</td>\n",
              "      <td>15.27%</td>\n",
              "      <td>59.83</td>\n",
              "      <td>C</td>\n",
              "      <td>C4</td>\n",
              "      <td>...</td>\n",
              "      <td>456.46</td>\n",
              "      <td>435.17</td>\n",
              "      <td>0.00</td>\n",
              "      <td>117.08</td>\n",
              "      <td>1.11</td>\n",
              "      <td>Apr-13</td>\n",
              "      <td>119.66</td>\n",
              "      <td>NaN</td>\n",
              "      <td>Sep-13</td>\n",
              "      <td>0</td>\n",
              "    </tr>\n",
              "    <tr>\n",
              "      <th>2</th>\n",
              "      <td>1077175</td>\n",
              "      <td>1313524</td>\n",
              "      <td>2400</td>\n",
              "      <td>2400</td>\n",
              "      <td>2400.0</td>\n",
              "      <td>36 months</td>\n",
              "      <td>15.96%</td>\n",
              "      <td>84.33</td>\n",
              "      <td>C</td>\n",
              "      <td>C5</td>\n",
              "      <td>...</td>\n",
              "      <td>2400.00</td>\n",
              "      <td>605.67</td>\n",
              "      <td>0.00</td>\n",
              "      <td>0.00</td>\n",
              "      <td>0.00</td>\n",
              "      <td>Jun-14</td>\n",
              "      <td>649.91</td>\n",
              "      <td>NaN</td>\n",
              "      <td>May-16</td>\n",
              "      <td>0</td>\n",
              "    </tr>\n",
              "    <tr>\n",
              "      <th>3</th>\n",
              "      <td>1076863</td>\n",
              "      <td>1277178</td>\n",
              "      <td>10000</td>\n",
              "      <td>10000</td>\n",
              "      <td>10000.0</td>\n",
              "      <td>36 months</td>\n",
              "      <td>13.49%</td>\n",
              "      <td>339.31</td>\n",
              "      <td>C</td>\n",
              "      <td>C1</td>\n",
              "      <td>...</td>\n",
              "      <td>10000.00</td>\n",
              "      <td>2214.92</td>\n",
              "      <td>16.97</td>\n",
              "      <td>0.00</td>\n",
              "      <td>0.00</td>\n",
              "      <td>Jan-15</td>\n",
              "      <td>357.48</td>\n",
              "      <td>NaN</td>\n",
              "      <td>Apr-16</td>\n",
              "      <td>0</td>\n",
              "    </tr>\n",
              "    <tr>\n",
              "      <th>4</th>\n",
              "      <td>1075358</td>\n",
              "      <td>1311748</td>\n",
              "      <td>3000</td>\n",
              "      <td>3000</td>\n",
              "      <td>3000.0</td>\n",
              "      <td>60 months</td>\n",
              "      <td>12.69%</td>\n",
              "      <td>67.79</td>\n",
              "      <td>B</td>\n",
              "      <td>B5</td>\n",
              "      <td>...</td>\n",
              "      <td>2475.94</td>\n",
              "      <td>1037.39</td>\n",
              "      <td>0.00</td>\n",
              "      <td>0.00</td>\n",
              "      <td>0.00</td>\n",
              "      <td>May-16</td>\n",
              "      <td>67.79</td>\n",
              "      <td>Jun-16</td>\n",
              "      <td>May-16</td>\n",
              "      <td>0</td>\n",
              "    </tr>\n",
              "  </tbody>\n",
              "</table>\n",
              "<p>5 rows × 50 columns</p>\n",
              "</div>\n",
              "      <button class=\"colab-df-convert\" onclick=\"convertToInteractive('df-459ed6e1-9ee5-4e45-8fd9-51a0ebe409ed')\"\n",
              "              title=\"Convert this dataframe to an interactive table.\"\n",
              "              style=\"display:none;\">\n",
              "        \n",
              "  <svg xmlns=\"http://www.w3.org/2000/svg\" height=\"24px\"viewBox=\"0 0 24 24\"\n",
              "       width=\"24px\">\n",
              "    <path d=\"M0 0h24v24H0V0z\" fill=\"none\"/>\n",
              "    <path d=\"M18.56 5.44l.94 2.06.94-2.06 2.06-.94-2.06-.94-.94-2.06-.94 2.06-2.06.94zm-11 1L8.5 8.5l.94-2.06 2.06-.94-2.06-.94L8.5 2.5l-.94 2.06-2.06.94zm10 10l.94 2.06.94-2.06 2.06-.94-2.06-.94-.94-2.06-.94 2.06-2.06.94z\"/><path d=\"M17.41 7.96l-1.37-1.37c-.4-.4-.92-.59-1.43-.59-.52 0-1.04.2-1.43.59L10.3 9.45l-7.72 7.72c-.78.78-.78 2.05 0 2.83L4 21.41c.39.39.9.59 1.41.59.51 0 1.02-.2 1.41-.59l7.78-7.78 2.81-2.81c.8-.78.8-2.07 0-2.86zM5.41 20L4 18.59l7.72-7.72 1.47 1.35L5.41 20z\"/>\n",
              "  </svg>\n",
              "      </button>\n",
              "      \n",
              "  <style>\n",
              "    .colab-df-container {\n",
              "      display:flex;\n",
              "      flex-wrap:wrap;\n",
              "      gap: 12px;\n",
              "    }\n",
              "\n",
              "    .colab-df-convert {\n",
              "      background-color: #E8F0FE;\n",
              "      border: none;\n",
              "      border-radius: 50%;\n",
              "      cursor: pointer;\n",
              "      display: none;\n",
              "      fill: #1967D2;\n",
              "      height: 32px;\n",
              "      padding: 0 0 0 0;\n",
              "      width: 32px;\n",
              "    }\n",
              "\n",
              "    .colab-df-convert:hover {\n",
              "      background-color: #E2EBFA;\n",
              "      box-shadow: 0px 1px 2px rgba(60, 64, 67, 0.3), 0px 1px 3px 1px rgba(60, 64, 67, 0.15);\n",
              "      fill: #174EA6;\n",
              "    }\n",
              "\n",
              "    [theme=dark] .colab-df-convert {\n",
              "      background-color: #3B4455;\n",
              "      fill: #D2E3FC;\n",
              "    }\n",
              "\n",
              "    [theme=dark] .colab-df-convert:hover {\n",
              "      background-color: #434B5C;\n",
              "      box-shadow: 0px 1px 3px 1px rgba(0, 0, 0, 0.15);\n",
              "      filter: drop-shadow(0px 1px 2px rgba(0, 0, 0, 0.3));\n",
              "      fill: #FFFFFF;\n",
              "    }\n",
              "  </style>\n",
              "\n",
              "      <script>\n",
              "        const buttonEl =\n",
              "          document.querySelector('#df-459ed6e1-9ee5-4e45-8fd9-51a0ebe409ed button.colab-df-convert');\n",
              "        buttonEl.style.display =\n",
              "          google.colab.kernel.accessAllowed ? 'block' : 'none';\n",
              "\n",
              "        async function convertToInteractive(key) {\n",
              "          const element = document.querySelector('#df-459ed6e1-9ee5-4e45-8fd9-51a0ebe409ed');\n",
              "          const dataTable =\n",
              "            await google.colab.kernel.invokeFunction('convertToInteractive',\n",
              "                                                     [key], {});\n",
              "          if (!dataTable) return;\n",
              "\n",
              "          const docLinkHtml = 'Like what you see? Visit the ' +\n",
              "            '<a target=\"_blank\" href=https://colab.research.google.com/notebooks/data_table.ipynb>data table notebook</a>'\n",
              "            + ' to learn more about interactive tables.';\n",
              "          element.innerHTML = '';\n",
              "          dataTable['output_type'] = 'display_data';\n",
              "          await google.colab.output.renderOutput(dataTable, element);\n",
              "          const docLink = document.createElement('div');\n",
              "          docLink.innerHTML = docLinkHtml;\n",
              "          element.appendChild(docLink);\n",
              "        }\n",
              "      </script>\n",
              "    </div>\n",
              "  </div>\n",
              "  "
            ]
          },
          "metadata": {},
          "execution_count": 42
        }
      ]
    },
    {
      "cell_type": "code",
      "source": [
        "df_loan.shape"
      ],
      "metadata": {
        "colab": {
          "base_uri": "https://localhost:8080/"
        },
        "id": "NKgk0OE7TGCh",
        "outputId": "cf716bb7-6a98-468d-b441-c53b1020299c"
      },
      "execution_count": null,
      "outputs": [
        {
          "output_type": "execute_result",
          "data": {
            "text/plain": [
              "(2740, 50)"
            ]
          },
          "metadata": {},
          "execution_count": 43
        }
      ]
    },
    {
      "cell_type": "code",
      "source": [
        "df_loan.drop(['emp_title', 'collections_12_mths_ex_med', 'pymnt_plan', 'url', 'desc', 'title', 'mths_since_last_delinq', 'mths_since_last_record', 'initial_list_status', 'next_pymnt_d'], axis = 1, inplace = True)\n",
        "df_loan.columns"
      ],
      "metadata": {
        "id": "4VitO9fqTLMN"
      },
      "execution_count": null,
      "outputs": []
    },
    {
      "cell_type": "code",
      "source": [
        "df_loan.shape"
      ],
      "metadata": {
        "colab": {
          "base_uri": "https://localhost:8080/"
        },
        "id": "aRaykuxCUbQL",
        "outputId": "ec9d4d69-9820-4667-a441-77b1777a0c3d"
      },
      "execution_count": null,
      "outputs": [
        {
          "output_type": "execute_result",
          "data": {
            "text/plain": [
              "(2740, 40)"
            ]
          },
          "metadata": {},
          "execution_count": 45
        }
      ]
    },
    {
      "cell_type": "code",
      "source": [
        "df_loan.drop(['zip_code'], axis = 1, inplace = True)\n",
        "df_loan.shape"
      ],
      "metadata": {
        "colab": {
          "base_uri": "https://localhost:8080/"
        },
        "id": "qumYxDk7U_GN",
        "outputId": "2eb6f999-c265-485a-8032-5e278e5011e4"
      },
      "execution_count": null,
      "outputs": [
        {
          "output_type": "execute_result",
          "data": {
            "text/plain": [
              "(2740, 39)"
            ]
          },
          "metadata": {},
          "execution_count": 46
        }
      ]
    },
    {
      "cell_type": "code",
      "source": [
        "df_loan.dtypes"
      ],
      "metadata": {
        "colab": {
          "base_uri": "https://localhost:8080/"
        },
        "id": "71A6FxOjhy-b",
        "outputId": "bfe8e4da-5537-4e77-b247-c16ddb2a9fef"
      },
      "execution_count": null,
      "outputs": [
        {
          "output_type": "execute_result",
          "data": {
            "text/plain": [
              "id                           int64\n",
              "member_id                    int64\n",
              "loan_amnt                    int64\n",
              "funded_amnt                  int64\n",
              "funded_amnt_inv            float64\n",
              "term                        object\n",
              "int_rate                    object\n",
              "installment                float64\n",
              "grade                       object\n",
              "sub_grade                   object\n",
              "emp_length                  object\n",
              "home_ownership              object\n",
              "annual_inc                 float64\n",
              "verification_status         object\n",
              "issue_d                     object\n",
              "loan_status                 object\n",
              "purpose                     object\n",
              "addr_state                  object\n",
              "dti                        float64\n",
              "delinq_2yrs                  int64\n",
              "earliest_cr_line            object\n",
              "inq_last_6mths               int64\n",
              "open_acc                     int64\n",
              "pub_rec                      int64\n",
              "revol_bal                    int64\n",
              "revol_util                  object\n",
              "total_acc                    int64\n",
              "out_prncp                  float64\n",
              "out_prncp_inv              float64\n",
              "total_pymnt                float64\n",
              "total_pymnt_inv            float64\n",
              "total_rec_prncp            float64\n",
              "total_rec_int              float64\n",
              "total_rec_late_fee         float64\n",
              "recoveries                 float64\n",
              "collection_recovery_fee    float64\n",
              "last_pymnt_d                object\n",
              "last_pymnt_amnt            float64\n",
              "last_credit_pull_d          object\n",
              "dtype: object"
            ]
          },
          "metadata": {},
          "execution_count": 47
        }
      ]
    },
    {
      "cell_type": "markdown",
      "source": [
        "## Data Imputation"
      ],
      "metadata": {
        "id": "Ehplez_6-tAs"
      }
    },
    {
      "cell_type": "code",
      "source": [
        "df_loan.loc[df[\"loan_status\"] == \"Charged Off\", \"loan_status\"] = 2\n",
        "df_loan.loc[df[\"loan_status\"] == \"Fully Paid\", \"loan_status\"] = 0\n",
        "df_loan.loc[df[\"loan_status\"] == \"Current\", \"loan_status\"] = 1"
      ],
      "metadata": {
        "colab": {
          "base_uri": "https://localhost:8080/"
        },
        "id": "OJFr8YbGg524",
        "outputId": "a41eca9b-c8d0-473a-ab58-52887fb469e2"
      },
      "execution_count": null,
      "outputs": [
        {
          "output_type": "stream",
          "name": "stderr",
          "text": [
            "/usr/local/lib/python3.8/dist-packages/pandas/core/indexing.py:1817: SettingWithCopyWarning: \n",
            "A value is trying to be set on a copy of a slice from a DataFrame.\n",
            "Try using .loc[row_indexer,col_indexer] = value instead\n",
            "\n",
            "See the caveats in the documentation: https://pandas.pydata.org/pandas-docs/stable/user_guide/indexing.html#returning-a-view-versus-a-copy\n",
            "  self._setitem_single_column(loc, value, pi)\n"
          ]
        }
      ]
    },
    {
      "cell_type": "code",
      "source": [
        "df_loan.dtypes"
      ],
      "metadata": {
        "colab": {
          "base_uri": "https://localhost:8080/"
        },
        "id": "REUFRPdLhCVI",
        "outputId": "b0895c4d-75e5-4756-ceee-39ffe014cee9"
      },
      "execution_count": null,
      "outputs": [
        {
          "output_type": "execute_result",
          "data": {
            "text/plain": [
              "id                           int64\n",
              "member_id                    int64\n",
              "loan_amnt                    int64\n",
              "funded_amnt                  int64\n",
              "funded_amnt_inv            float64\n",
              "term                        object\n",
              "int_rate                    object\n",
              "installment                float64\n",
              "grade                       object\n",
              "sub_grade                   object\n",
              "emp_length                  object\n",
              "home_ownership              object\n",
              "annual_inc                 float64\n",
              "verification_status         object\n",
              "issue_d                     object\n",
              "loan_status                 object\n",
              "purpose                     object\n",
              "addr_state                  object\n",
              "dti                        float64\n",
              "delinq_2yrs                  int64\n",
              "earliest_cr_line            object\n",
              "inq_last_6mths               int64\n",
              "open_acc                     int64\n",
              "pub_rec                      int64\n",
              "revol_bal                    int64\n",
              "revol_util                  object\n",
              "total_acc                    int64\n",
              "out_prncp                  float64\n",
              "out_prncp_inv              float64\n",
              "total_pymnt                float64\n",
              "total_pymnt_inv            float64\n",
              "total_rec_prncp            float64\n",
              "total_rec_int              float64\n",
              "total_rec_late_fee         float64\n",
              "recoveries                 float64\n",
              "collection_recovery_fee    float64\n",
              "last_pymnt_d                object\n",
              "last_pymnt_amnt            float64\n",
              "last_credit_pull_d          object\n",
              "dtype: object"
            ]
          },
          "metadata": {},
          "execution_count": 49
        }
      ]
    },
    {
      "cell_type": "code",
      "source": [
        "df_loan[\"int_rate\"] = pd.to_numeric(df_loan[\"int_rate\"].str.replace('%',''))\n",
        "df_loan[\"loan_status\"] = pd.to_numeric(df_loan[\"loan_status\"])\n",
        "df_loan.dtypes"
      ],
      "metadata": {
        "colab": {
          "base_uri": "https://localhost:8080/"
        },
        "id": "pwFQBEOijjuX",
        "outputId": "349de648-90f5-4bff-b729-dd3f28192131"
      },
      "execution_count": null,
      "outputs": [
        {
          "output_type": "stream",
          "name": "stderr",
          "text": [
            "<ipython-input-50-d7b3bbd1d3c2>:1: SettingWithCopyWarning: \n",
            "A value is trying to be set on a copy of a slice from a DataFrame.\n",
            "Try using .loc[row_indexer,col_indexer] = value instead\n",
            "\n",
            "See the caveats in the documentation: https://pandas.pydata.org/pandas-docs/stable/user_guide/indexing.html#returning-a-view-versus-a-copy\n",
            "  df_loan[\"int_rate\"] = pd.to_numeric(df_loan[\"int_rate\"].str.replace('%',''))\n",
            "<ipython-input-50-d7b3bbd1d3c2>:2: SettingWithCopyWarning: \n",
            "A value is trying to be set on a copy of a slice from a DataFrame.\n",
            "Try using .loc[row_indexer,col_indexer] = value instead\n",
            "\n",
            "See the caveats in the documentation: https://pandas.pydata.org/pandas-docs/stable/user_guide/indexing.html#returning-a-view-versus-a-copy\n",
            "  df_loan[\"loan_status\"] = pd.to_numeric(df_loan[\"loan_status\"])\n"
          ]
        },
        {
          "output_type": "execute_result",
          "data": {
            "text/plain": [
              "id                           int64\n",
              "member_id                    int64\n",
              "loan_amnt                    int64\n",
              "funded_amnt                  int64\n",
              "funded_amnt_inv            float64\n",
              "term                        object\n",
              "int_rate                   float64\n",
              "installment                float64\n",
              "grade                       object\n",
              "sub_grade                   object\n",
              "emp_length                  object\n",
              "home_ownership              object\n",
              "annual_inc                 float64\n",
              "verification_status         object\n",
              "issue_d                     object\n",
              "loan_status                  int64\n",
              "purpose                     object\n",
              "addr_state                  object\n",
              "dti                        float64\n",
              "delinq_2yrs                  int64\n",
              "earliest_cr_line            object\n",
              "inq_last_6mths               int64\n",
              "open_acc                     int64\n",
              "pub_rec                      int64\n",
              "revol_bal                    int64\n",
              "revol_util                  object\n",
              "total_acc                    int64\n",
              "out_prncp                  float64\n",
              "out_prncp_inv              float64\n",
              "total_pymnt                float64\n",
              "total_pymnt_inv            float64\n",
              "total_rec_prncp            float64\n",
              "total_rec_int              float64\n",
              "total_rec_late_fee         float64\n",
              "recoveries                 float64\n",
              "collection_recovery_fee    float64\n",
              "last_pymnt_d                object\n",
              "last_pymnt_amnt            float64\n",
              "last_credit_pull_d          object\n",
              "dtype: object"
            ]
          },
          "metadata": {},
          "execution_count": 50
        }
      ]
    },
    {
      "cell_type": "markdown",
      "source": [
        "# Correlation Analysis"
      ],
      "metadata": {
        "id": "GGPtlVIJ-1Uz"
      }
    },
    {
      "cell_type": "code",
      "source": [
        "df_loan.installment.corr(df_loan.loan_status)"
      ],
      "metadata": {
        "colab": {
          "base_uri": "https://localhost:8080/"
        },
        "id": "_WDIH6jKj648",
        "outputId": "228179a2-8846-4a8f-f0c4-79108b038afd"
      },
      "execution_count": null,
      "outputs": [
        {
          "output_type": "execute_result",
          "data": {
            "text/plain": [
              "0.04466725829875556"
            ]
          },
          "metadata": {},
          "execution_count": 90
        }
      ]
    },
    {
      "cell_type": "code",
      "source": [
        "df_loan.annual_inc.corr(df_loan.loan_status)"
      ],
      "metadata": {
        "colab": {
          "base_uri": "https://localhost:8080/"
        },
        "id": "uFSBvHHhlXgC",
        "outputId": "4a1b08c5-b6a5-475e-ea03-419d8a299a9c"
      },
      "execution_count": null,
      "outputs": [
        {
          "output_type": "execute_result",
          "data": {
            "text/plain": [
              "-0.037998173412915615"
            ]
          },
          "metadata": {},
          "execution_count": 91
        }
      ]
    },
    {
      "cell_type": "code",
      "source": [
        "df_loan.total_rec_late_fee.corr(df_loan.annual_inc)"
      ],
      "metadata": {
        "colab": {
          "base_uri": "https://localhost:8080/"
        },
        "id": "QhMc0REloZ5a",
        "outputId": "3caa5c18-16b1-4f5e-f1bd-cc3f4708ca0e"
      },
      "execution_count": null,
      "outputs": [
        {
          "output_type": "execute_result",
          "data": {
            "text/plain": [
              "0.009708992837155045"
            ]
          },
          "metadata": {},
          "execution_count": 92
        }
      ]
    },
    {
      "cell_type": "code",
      "source": [
        "df_loan.loan_amnt.corr(df_loan.annual_inc)"
      ],
      "metadata": {
        "colab": {
          "base_uri": "https://localhost:8080/"
        },
        "id": "y5UrH0UZopYl",
        "outputId": "a5e8884b-a221-4b60-deb3-26e33475dd17"
      },
      "execution_count": null,
      "outputs": [
        {
          "output_type": "execute_result",
          "data": {
            "text/plain": [
              "0.40790638363896364"
            ]
          },
          "metadata": {},
          "execution_count": 93
        }
      ]
    },
    {
      "cell_type": "code",
      "source": [
        "df_loan.total_rec_int.corr(df_loan.annual_inc)"
      ],
      "metadata": {
        "colab": {
          "base_uri": "https://localhost:8080/"
        },
        "id": "SbdKaCUEo31M",
        "outputId": "e376a099-d56f-41db-e34f-eea442709763"
      },
      "execution_count": null,
      "outputs": [
        {
          "output_type": "execute_result",
          "data": {
            "text/plain": [
              "0.27288182397963706"
            ]
          },
          "metadata": {},
          "execution_count": 94
        }
      ]
    },
    {
      "cell_type": "code",
      "source": [
        "df_loan.int_rate.corr(df_loan.loan_amnt)"
      ],
      "metadata": {
        "colab": {
          "base_uri": "https://localhost:8080/"
        },
        "id": "M1uZruxlpAOk",
        "outputId": "6e614599-f7b5-4ec0-baf8-7206c0abc392"
      },
      "execution_count": null,
      "outputs": [
        {
          "output_type": "execute_result",
          "data": {
            "text/plain": [
              "0.33494566008477933"
            ]
          },
          "metadata": {},
          "execution_count": 95
        }
      ]
    },
    {
      "cell_type": "code",
      "source": [
        "df_loan.int_rate.corr(df_loan.funded_amnt)"
      ],
      "metadata": {
        "colab": {
          "base_uri": "https://localhost:8080/"
        },
        "id": "L5cN4vJSpbUJ",
        "outputId": "0b6b9ac1-d5c1-4cc2-da88-9b7e129a7840"
      },
      "execution_count": null,
      "outputs": [
        {
          "output_type": "execute_result",
          "data": {
            "text/plain": [
              "0.32033441895963277"
            ]
          },
          "metadata": {},
          "execution_count": 96
        }
      ]
    },
    {
      "cell_type": "code",
      "source": [
        "df_loan.recoveries.corr(df_loan.int_rate)"
      ],
      "metadata": {
        "colab": {
          "base_uri": "https://localhost:8080/"
        },
        "id": "qNqiMKDxphvw",
        "outputId": "05ea5f78-1619-4124-f861-bff44a7368d8"
      },
      "execution_count": null,
      "outputs": [
        {
          "output_type": "execute_result",
          "data": {
            "text/plain": [
              "0.16811750498377048"
            ]
          },
          "metadata": {},
          "execution_count": 97
        }
      ]
    },
    {
      "cell_type": "code",
      "source": [
        "df_loan.total_rec_late_fee.corr(df_loan.int_rate)"
      ],
      "metadata": {
        "colab": {
          "base_uri": "https://localhost:8080/"
        },
        "id": "857aweNipwaV",
        "outputId": "a2692f3d-e472-4ea3-f78f-216dab9a0884"
      },
      "execution_count": null,
      "outputs": [
        {
          "output_type": "execute_result",
          "data": {
            "text/plain": [
              "0.05810958712056738"
            ]
          },
          "metadata": {},
          "execution_count": 98
        }
      ]
    },
    {
      "cell_type": "code",
      "source": [
        "df_loan.installment.corr(df_loan.funded_amnt)"
      ],
      "metadata": {
        "colab": {
          "base_uri": "https://localhost:8080/"
        },
        "id": "7t7pDZRrp8b2",
        "outputId": "7cc948ab-548a-4509-e9d8-91d5a253803d"
      },
      "execution_count": null,
      "outputs": [
        {
          "output_type": "execute_result",
          "data": {
            "text/plain": [
              "0.9519873323620179"
            ]
          },
          "metadata": {},
          "execution_count": 99
        }
      ]
    },
    {
      "cell_type": "code",
      "source": [
        "df_loan.int_rate.corr(df_loan.loan_status)"
      ],
      "metadata": {
        "colab": {
          "base_uri": "https://localhost:8080/"
        },
        "id": "KkQV08jqwaJX",
        "outputId": "b6966954-ece3-4f10-f3fc-820642e196eb"
      },
      "execution_count": null,
      "outputs": [
        {
          "output_type": "execute_result",
          "data": {
            "text/plain": [
              "0.27116682457349683"
            ]
          },
          "metadata": {},
          "execution_count": 101
        }
      ]
    },
    {
      "cell_type": "code",
      "source": [
        "df_loan.total_rec_int.corr(df_loan.loan_status)"
      ],
      "metadata": {
        "colab": {
          "base_uri": "https://localhost:8080/"
        },
        "id": "epcgN1leqLUv",
        "outputId": "900d5562-dcc6-458c-f80c-29dac77b530c"
      },
      "execution_count": null,
      "outputs": [
        {
          "output_type": "execute_result",
          "data": {
            "text/plain": [
              "0.16733253218964253"
            ]
          },
          "metadata": {},
          "execution_count": 100
        }
      ]
    },
    {
      "cell_type": "code",
      "source": [
        "df_loan.loc[df[\"term\"] == \" 36 months\", \"term\"] = 0\n",
        "df_loan.loc[df[\"term\"] == \" 60 months\", \"term\"] = 1"
      ],
      "metadata": {
        "id": "T2udwoNYqWzU"
      },
      "execution_count": null,
      "outputs": []
    },
    {
      "cell_type": "code",
      "source": [
        "df_loan[\"term\"] = pd.to_numeric(df_loan[\"term\"])"
      ],
      "metadata": {
        "colab": {
          "base_uri": "https://localhost:8080/"
        },
        "id": "hRQpKr8Jq2K1",
        "outputId": "3daa1a87-8084-4183-b1a3-e0b7701a92b2"
      },
      "execution_count": null,
      "outputs": [
        {
          "output_type": "stream",
          "name": "stderr",
          "text": [
            "<ipython-input-65-d2635002a79f>:1: SettingWithCopyWarning: \n",
            "A value is trying to be set on a copy of a slice from a DataFrame.\n",
            "Try using .loc[row_indexer,col_indexer] = value instead\n",
            "\n",
            "See the caveats in the documentation: https://pandas.pydata.org/pandas-docs/stable/user_guide/indexing.html#returning-a-view-versus-a-copy\n",
            "  df_loan[\"term\"] = pd.to_numeric(df_loan[\"term\"])\n"
          ]
        }
      ]
    },
    {
      "cell_type": "code",
      "source": [
        "df_loan.term.corr(df_loan.loan_status)"
      ],
      "metadata": {
        "colab": {
          "base_uri": "https://localhost:8080/"
        },
        "id": "1hy0XEd-q9-4",
        "outputId": "877ef1c2-5ce3-413f-b697-475f4d0e7ba5"
      },
      "execution_count": null,
      "outputs": [
        {
          "output_type": "execute_result",
          "data": {
            "text/plain": [
              "0.3201957176212676"
            ]
          },
          "metadata": {},
          "execution_count": 66
        }
      ]
    },
    {
      "cell_type": "code",
      "source": [
        "df_loan.term.corr(df_loan.total_rec_int)"
      ],
      "metadata": {
        "colab": {
          "base_uri": "https://localhost:8080/"
        },
        "id": "aCANiS3mrNFk",
        "outputId": "ac795dfa-b03c-4f8b-81ee-1f465f939435"
      },
      "execution_count": null,
      "outputs": [
        {
          "output_type": "execute_result",
          "data": {
            "text/plain": [
              "0.6206196024544001"
            ]
          },
          "metadata": {},
          "execution_count": 67
        }
      ]
    },
    {
      "cell_type": "code",
      "source": [
        "df_loan.term.corr(df_loan.total_rec_late_fee)"
      ],
      "metadata": {
        "colab": {
          "base_uri": "https://localhost:8080/"
        },
        "id": "3900iZKUrTXY",
        "outputId": "b1014076-e731-48a7-d62f-5244b44f7da3"
      },
      "execution_count": null,
      "outputs": [
        {
          "output_type": "execute_result",
          "data": {
            "text/plain": [
              "0.04330202181503877"
            ]
          },
          "metadata": {},
          "execution_count": 68
        }
      ]
    },
    {
      "cell_type": "code",
      "source": [
        "bins = [4000, 10000, 25000, 75000, 100000, 200000, 300000, 400000, 500000, 8000000]\n",
        "df_loan[\"income_bins\"] = pd.cut(df['annual_inc'],bins)\n",
        "df_loan[\"income_bins\"]"
      ],
      "metadata": {
        "colab": {
          "base_uri": "https://localhost:8080/"
        },
        "id": "nt0g2-CxrfWq",
        "outputId": "c691cbb7-8582-437f-841b-e557d02e3038"
      },
      "execution_count": null,
      "outputs": [
        {
          "output_type": "stream",
          "name": "stderr",
          "text": [
            "<ipython-input-70-00f2c4154c00>:2: SettingWithCopyWarning: \n",
            "A value is trying to be set on a copy of a slice from a DataFrame.\n",
            "Try using .loc[row_indexer,col_indexer] = value instead\n",
            "\n",
            "See the caveats in the documentation: https://pandas.pydata.org/pandas-docs/stable/user_guide/indexing.html#returning-a-view-versus-a-copy\n",
            "  df_loan[\"income_bins\"] = pd.cut(df['annual_inc'],bins)\n"
          ]
        },
        {
          "output_type": "execute_result",
          "data": {
            "text/plain": [
              "0         (10000, 25000]\n",
              "1         (25000, 75000]\n",
              "2         (10000, 25000]\n",
              "3         (25000, 75000]\n",
              "4        (75000, 100000]\n",
              "              ...       \n",
              "2735      (25000, 75000]\n",
              "2736      (25000, 75000]\n",
              "2737    (100000, 200000]\n",
              "2738    (100000, 200000]\n",
              "2739    (100000, 200000]\n",
              "Name: income_bins, Length: 2740, dtype: category\n",
              "Categories (9, interval[int64, right]): [(4000, 10000] < (10000, 25000] < (25000, 75000] <\n",
              "                                         (75000, 100000] ... (200000, 300000] < (300000, 400000] <\n",
              "                                         (400000, 500000] < (500000, 8000000]]"
            ]
          },
          "metadata": {},
          "execution_count": 70
        }
      ]
    },
    {
      "cell_type": "code",
      "source": [
        "df_loan.columns"
      ],
      "metadata": {
        "colab": {
          "base_uri": "https://localhost:8080/"
        },
        "id": "NImQOPKhsXaB",
        "outputId": "496c58b3-a2fa-446a-dd2f-3ed6446759e0"
      },
      "execution_count": null,
      "outputs": [
        {
          "output_type": "execute_result",
          "data": {
            "text/plain": [
              "Index(['id', 'member_id', 'loan_amnt', 'funded_amnt', 'funded_amnt_inv',\n",
              "       'term', 'int_rate', 'installment', 'grade', 'sub_grade', 'emp_length',\n",
              "       'home_ownership', 'annual_inc', 'verification_status', 'issue_d',\n",
              "       'loan_status', 'purpose', 'addr_state', 'dti', 'delinq_2yrs',\n",
              "       'earliest_cr_line', 'inq_last_6mths', 'open_acc', 'pub_rec',\n",
              "       'revol_bal', 'revol_util', 'total_acc', 'out_prncp', 'out_prncp_inv',\n",
              "       'total_pymnt', 'total_pymnt_inv', 'total_rec_prncp', 'total_rec_int',\n",
              "       'total_rec_late_fee', 'recoveries', 'collection_recovery_fee',\n",
              "       'last_pymnt_d', 'last_pymnt_amnt', 'last_credit_pull_d', 'income_bins'],\n",
              "      dtype='object')"
            ]
          },
          "metadata": {},
          "execution_count": 72
        }
      ]
    },
    {
      "cell_type": "markdown",
      "source": [
        "# Finding Outliers in income and cleaning them"
      ],
      "metadata": {
        "id": "xGTzI3pi-95d"
      }
    },
    {
      "cell_type": "code",
      "source": [
        "boxplot = df_loan.boxplot(column=['annual_inc'])  "
      ],
      "metadata": {
        "colab": {
          "base_uri": "https://localhost:8080/",
          "height": 266
        },
        "id": "6WripYW0tC_x",
        "outputId": "b7d9a467-092e-4536-ecdd-14044fa94b5d"
      },
      "execution_count": null,
      "outputs": [
        {
          "output_type": "display_data",
          "data": {
            "text/plain": [
              "<Figure size 432x288 with 1 Axes>"
            ],
            "image/png": "[encoded data removed]"
          },
          "metadata": {
            "needs_background": "light"
          }
        }
      ]
    },
    {
      "cell_type": "code",
      "source": [
        "df_loan = df_loan[df_loan[\"annual_inc\"] < 130000]"
      ],
      "metadata": {
        "id": "XY5xy65st4pt"
      },
      "execution_count": null,
      "outputs": []
    },
    {
      "cell_type": "code",
      "source": [
        "boxplot = df_loan.boxplot(column=['annual_inc']) "
      ],
      "metadata": {
        "colab": {
          "base_uri": "https://localhost:8080/",
          "height": 266
        },
        "id": "BG_8fIKLurlI",
        "outputId": "9cac3537-eb36-4fa7-a1dd-6b9547b127f0"
      },
      "execution_count": null,
      "outputs": [
        {
          "output_type": "display_data",
          "data": {
            "text/plain": [
              "<Figure size 432x288 with 1 Axes>"
            ],
            "image/png": "[encoded data removed]"
          },
          "metadata": {
            "needs_background": "light"
          }
        }
      ]
    },
    {
      "cell_type": "code",
      "source": [
        "df_loan.shape"
      ],
      "metadata": {
        "colab": {
          "base_uri": "https://localhost:8080/"
        },
        "id": "8TXJNYKFuub9",
        "outputId": "8a883ac1-2b23-4fe6-bfb1-6678fffa3d33"
      },
      "execution_count": null,
      "outputs": [
        {
          "output_type": "execute_result",
          "data": {
            "text/plain": [
              "(2607, 40)"
            ]
          },
          "metadata": {},
          "execution_count": 87
        }
      ]
    },
    {
      "cell_type": "code",
      "source": [
        "plt.hist(df_loan[\"annual_inc\"], bins = 10, color = 'blue', edgecolor = 'yellow' )\n",
        "plt.show()"
      ],
      "metadata": {
        "colab": {
          "base_uri": "https://localhost:8080/",
          "height": 265
        },
        "id": "tNL2VjXXvG9M",
        "outputId": "c206fe9b-4f35-417c-8272-5729b3195aa0"
      },
      "execution_count": null,
      "outputs": [
        {
          "output_type": "display_data",
          "data": {
            "text/plain": [
              "<Figure size 432x288 with 1 Axes>"
            ],
            "image/png": "[encoded data removed]"
          },
          "metadata": {
            "needs_background": "light"
          }
        }
      ]
    },
    {
      "cell_type": "code",
      "source": [
        "df_loan.loc[df[\"grade\"] == \"A\", \"grade\"] = 0\n",
        "df_loan.loc[df[\"grade\"] == \"B\", \"grade\"] = 1\n",
        "df_loan.loc[df[\"grade\"] == \"C\", \"grade\"] = 2\n",
        "df_loan.loc[df[\"grade\"] == \"D\", \"grade\"] = 3\n",
        "df_loan.loc[df[\"grade\"] == \"E\", \"grade\"] = 4\n",
        "df_loan.loc[df[\"grade\"] == \"F\", \"grade\"] = 5\n",
        "df_loan.loc[df[\"grade\"] == \"G\", \"grade\"] = 6"
      ],
      "metadata": {
        "id": "VRvEzf6Lv0tz"
      },
      "execution_count": null,
      "outputs": []
    },
    {
      "cell_type": "code",
      "source": [
        "df_loan['grade'] = pd.to_numeric(df_loan['grade'])"
      ],
      "metadata": {
        "id": "stAaLxOrw9Le"
      },
      "execution_count": null,
      "outputs": []
    },
    {
      "cell_type": "code",
      "source": [
        "df_loan.grade.corr(df_loan.funded_amnt)"
      ],
      "metadata": {
        "colab": {
          "base_uri": "https://localhost:8080/"
        },
        "id": "2LI5l9hUxYIq",
        "outputId": "db55cb66-0b0b-4e9e-845f-43bcd899a236"
      },
      "execution_count": null,
      "outputs": [
        {
          "output_type": "execute_result",
          "data": {
            "text/plain": [
              "0.32598298105953183"
            ]
          },
          "metadata": {},
          "execution_count": 109
        }
      ]
    },
    {
      "cell_type": "code",
      "source": [],
      "metadata": {
        "id": "jtA3O0m4x5R_"
      },
      "execution_count": null,
      "outputs": []
    }
  ]
}